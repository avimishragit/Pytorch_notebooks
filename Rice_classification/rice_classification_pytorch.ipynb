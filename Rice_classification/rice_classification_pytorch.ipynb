{
 "cells": [
  {
   "cell_type": "code",
   "execution_count": 1,
   "id": "69bff187-4c12-4ca6-88bc-14ce36d1aec4",
   "metadata": {},
   "outputs": [],
   "source": [
    "# !pip install opendatasets --quiet\n",
    "# import opendatasets as od\n",
    "# import os\n",
    "# import pandas as pd\n",
    "\n",
    "# od.download(\"https://www.kaggle.com/datasets/mssmartypants/rice-type-classification\")\n",
    "\n",
    "# # Check if the directory exists and list its contents\n",
    "# if os.path.exists(\"rice-type-classification\"):\n",
    "#     print(\"The 'rice-type-classification' directory exists.\")\n",
    "#     print(\"Contents of 'rice-type-classification':\")\n",
    "#     !ls rice-type-classification\n",
    "# else:\n",
    "#     print(\"The 'rice-type-classification' directory was not found.\")\n",
    "\n",
    "# # Load a sample CSV file (adjust the filename if needed)\n",
    "# try:\n",
    "#     data_path = \"rice-type-classification/Rice_Type_Classification.csv\"\n",
    "#     df = pd.read_csv(data_path)\n",
    "#     print(df.head())\n",
    "# except FileNotFoundError:\n",
    "#     print(\"The CSV file 'Rice_Type_Classification.csv' was not found.  Check the contents of the downloaded directory.\")\n",
    "# except Exception as e:\n",
    "#     print(f\"An error occurred: {e}\")\n"
   ]
  },
  {
   "cell_type": "code",
   "execution_count": 2,
   "id": "79d5eeb1-0608-47de-a002-aab8fe6ae769",
   "metadata": {},
   "outputs": [
    {
     "name": "stdout",
     "output_type": "stream",
     "text": [
      " Volume in drive C is Windows-SSD\n",
      " Volume Serial Number is D60A-3906\n",
      "\n",
      " Directory of C:\\Users\\Avinash Mishra\\ME\\pytorch\\projects\\TabularData\n",
      "\n",
      "08-03-2025  13:03    <DIR>          .\n",
      "08-03-2025  08:24    <DIR>          ..\n",
      "08-03-2025  13:03    <DIR>          .ipynb_checkpoints\n",
      "08-03-2025  13:03            88,432 rice_classification_pytorch.ipynb\n",
      "08-03-2025  08:26    <DIR>          rice-type-classification\n",
      "               1 File(s)         88,432 bytes\n",
      "               4 Dir(s)  222,972,764,160 bytes free\n"
     ]
    }
   ],
   "source": [
    "ls"
   ]
  },
  {
   "cell_type": "code",
   "execution_count": 3,
   "id": "89130806-6796-4080-a5cf-7fc889d70a52",
   "metadata": {},
   "outputs": [],
   "source": [
    "import pandas as pd"
   ]
  },
  {
   "cell_type": "code",
   "execution_count": 4,
   "id": "8fb5119d-bcce-44c8-abad-f304cb0ad116",
   "metadata": {},
   "outputs": [
    {
     "data": {
      "text/html": [
       "<div>\n",
       "<style scoped>\n",
       "    .dataframe tbody tr th:only-of-type {\n",
       "        vertical-align: middle;\n",
       "    }\n",
       "\n",
       "    .dataframe tbody tr th {\n",
       "        vertical-align: top;\n",
       "    }\n",
       "\n",
       "    .dataframe thead th {\n",
       "        text-align: right;\n",
       "    }\n",
       "</style>\n",
       "<table border=\"1\" class=\"dataframe\">\n",
       "  <thead>\n",
       "    <tr style=\"text-align: right;\">\n",
       "      <th></th>\n",
       "      <th>id</th>\n",
       "      <th>Area</th>\n",
       "      <th>MajorAxisLength</th>\n",
       "      <th>MinorAxisLength</th>\n",
       "      <th>Eccentricity</th>\n",
       "      <th>ConvexArea</th>\n",
       "      <th>EquivDiameter</th>\n",
       "      <th>Extent</th>\n",
       "      <th>Perimeter</th>\n",
       "      <th>Roundness</th>\n",
       "      <th>AspectRation</th>\n",
       "      <th>Class</th>\n",
       "    </tr>\n",
       "  </thead>\n",
       "  <tbody>\n",
       "    <tr>\n",
       "      <th>0</th>\n",
       "      <td>1</td>\n",
       "      <td>4537</td>\n",
       "      <td>92.229316</td>\n",
       "      <td>64.012769</td>\n",
       "      <td>0.719916</td>\n",
       "      <td>4677</td>\n",
       "      <td>76.004525</td>\n",
       "      <td>0.657536</td>\n",
       "      <td>273.085</td>\n",
       "      <td>0.764510</td>\n",
       "      <td>1.440796</td>\n",
       "      <td>1</td>\n",
       "    </tr>\n",
       "    <tr>\n",
       "      <th>1</th>\n",
       "      <td>2</td>\n",
       "      <td>2872</td>\n",
       "      <td>74.691881</td>\n",
       "      <td>51.400454</td>\n",
       "      <td>0.725553</td>\n",
       "      <td>3015</td>\n",
       "      <td>60.471018</td>\n",
       "      <td>0.713009</td>\n",
       "      <td>208.317</td>\n",
       "      <td>0.831658</td>\n",
       "      <td>1.453137</td>\n",
       "      <td>1</td>\n",
       "    </tr>\n",
       "    <tr>\n",
       "      <th>2</th>\n",
       "      <td>3</td>\n",
       "      <td>3048</td>\n",
       "      <td>76.293164</td>\n",
       "      <td>52.043491</td>\n",
       "      <td>0.731211</td>\n",
       "      <td>3132</td>\n",
       "      <td>62.296341</td>\n",
       "      <td>0.759153</td>\n",
       "      <td>210.012</td>\n",
       "      <td>0.868434</td>\n",
       "      <td>1.465950</td>\n",
       "      <td>1</td>\n",
       "    </tr>\n",
       "    <tr>\n",
       "      <th>3</th>\n",
       "      <td>4</td>\n",
       "      <td>3073</td>\n",
       "      <td>77.033628</td>\n",
       "      <td>51.928487</td>\n",
       "      <td>0.738639</td>\n",
       "      <td>3157</td>\n",
       "      <td>62.551300</td>\n",
       "      <td>0.783529</td>\n",
       "      <td>210.657</td>\n",
       "      <td>0.870203</td>\n",
       "      <td>1.483456</td>\n",
       "      <td>1</td>\n",
       "    </tr>\n",
       "    <tr>\n",
       "      <th>4</th>\n",
       "      <td>5</td>\n",
       "      <td>3693</td>\n",
       "      <td>85.124785</td>\n",
       "      <td>56.374021</td>\n",
       "      <td>0.749282</td>\n",
       "      <td>3802</td>\n",
       "      <td>68.571668</td>\n",
       "      <td>0.769375</td>\n",
       "      <td>230.332</td>\n",
       "      <td>0.874743</td>\n",
       "      <td>1.510000</td>\n",
       "      <td>1</td>\n",
       "    </tr>\n",
       "  </tbody>\n",
       "</table>\n",
       "</div>"
      ],
      "text/plain": [
       "   id  Area  MajorAxisLength  MinorAxisLength  Eccentricity  ConvexArea  \\\n",
       "0   1  4537        92.229316        64.012769      0.719916        4677   \n",
       "1   2  2872        74.691881        51.400454      0.725553        3015   \n",
       "2   3  3048        76.293164        52.043491      0.731211        3132   \n",
       "3   4  3073        77.033628        51.928487      0.738639        3157   \n",
       "4   5  3693        85.124785        56.374021      0.749282        3802   \n",
       "\n",
       "   EquivDiameter    Extent  Perimeter  Roundness  AspectRation  Class  \n",
       "0      76.004525  0.657536    273.085   0.764510      1.440796      1  \n",
       "1      60.471018  0.713009    208.317   0.831658      1.453137      1  \n",
       "2      62.296341  0.759153    210.012   0.868434      1.465950      1  \n",
       "3      62.551300  0.783529    210.657   0.870203      1.483456      1  \n",
       "4      68.571668  0.769375    230.332   0.874743      1.510000      1  "
      ]
     },
     "execution_count": 4,
     "metadata": {},
     "output_type": "execute_result"
    }
   ],
   "source": [
    "df =pd.read_csv('rice-type-classification/riceClassification.csv')\n",
    "df.head()"
   ]
  },
  {
   "cell_type": "code",
   "execution_count": 5,
   "id": "2259bf2b-590f-4984-8c57-9ca5ee502e27",
   "metadata": {},
   "outputs": [],
   "source": [
    "# !pip install torchsummary"
   ]
  },
  {
   "cell_type": "code",
   "execution_count": 6,
   "id": "ed20a50d-40da-47a2-a0ce-d8b893a7dd5d",
   "metadata": {},
   "outputs": [],
   "source": [
    "import torch\n",
    "import torch.nn as nn\n",
    "from torch.optim import Adam\n",
    "from torch.utils.data import Dataset, DataLoader\n",
    "from torchsummary import summary # Visualize the model layers and number of parameters\n",
    "from sklearn.model_selection import train_test_split\n",
    "from sklearn.metrics import accuracy_score\n",
    "import matplotlib.pyplot as plt\n",
    "import numpy as np\n"
   ]
  },
  {
   "cell_type": "code",
   "execution_count": 7,
   "id": "2c922def-eb11-4366-bed3-b9a144c0cebf",
   "metadata": {},
   "outputs": [
    {
     "name": "stdout",
     "output_type": "stream",
     "text": [
      "cpu\n"
     ]
    }
   ],
   "source": [
    "device = 'cuda' if torch.cuda.is_available() else 'cpu'\n",
    "print(device)"
   ]
  },
  {
   "cell_type": "code",
   "execution_count": 8,
   "id": "1eecf572-f44a-4663-88aa-0ba5f8b79d48",
   "metadata": {},
   "outputs": [
    {
     "data": {
      "text/html": [
       "<div>\n",
       "<style scoped>\n",
       "    .dataframe tbody tr th:only-of-type {\n",
       "        vertical-align: middle;\n",
       "    }\n",
       "\n",
       "    .dataframe tbody tr th {\n",
       "        vertical-align: top;\n",
       "    }\n",
       "\n",
       "    .dataframe thead th {\n",
       "        text-align: right;\n",
       "    }\n",
       "</style>\n",
       "<table border=\"1\" class=\"dataframe\">\n",
       "  <thead>\n",
       "    <tr style=\"text-align: right;\">\n",
       "      <th></th>\n",
       "      <th>id</th>\n",
       "      <th>Area</th>\n",
       "      <th>MajorAxisLength</th>\n",
       "      <th>MinorAxisLength</th>\n",
       "      <th>Eccentricity</th>\n",
       "      <th>ConvexArea</th>\n",
       "      <th>EquivDiameter</th>\n",
       "      <th>Extent</th>\n",
       "      <th>Perimeter</th>\n",
       "      <th>Roundness</th>\n",
       "      <th>AspectRation</th>\n",
       "      <th>Class</th>\n",
       "    </tr>\n",
       "  </thead>\n",
       "  <tbody>\n",
       "    <tr>\n",
       "      <th>0</th>\n",
       "      <td>1</td>\n",
       "      <td>4537</td>\n",
       "      <td>92.229316</td>\n",
       "      <td>64.012769</td>\n",
       "      <td>0.719916</td>\n",
       "      <td>4677</td>\n",
       "      <td>76.004525</td>\n",
       "      <td>0.657536</td>\n",
       "      <td>273.085</td>\n",
       "      <td>0.764510</td>\n",
       "      <td>1.440796</td>\n",
       "      <td>1</td>\n",
       "    </tr>\n",
       "    <tr>\n",
       "      <th>1</th>\n",
       "      <td>2</td>\n",
       "      <td>2872</td>\n",
       "      <td>74.691881</td>\n",
       "      <td>51.400454</td>\n",
       "      <td>0.725553</td>\n",
       "      <td>3015</td>\n",
       "      <td>60.471018</td>\n",
       "      <td>0.713009</td>\n",
       "      <td>208.317</td>\n",
       "      <td>0.831658</td>\n",
       "      <td>1.453137</td>\n",
       "      <td>1</td>\n",
       "    </tr>\n",
       "    <tr>\n",
       "      <th>2</th>\n",
       "      <td>3</td>\n",
       "      <td>3048</td>\n",
       "      <td>76.293164</td>\n",
       "      <td>52.043491</td>\n",
       "      <td>0.731211</td>\n",
       "      <td>3132</td>\n",
       "      <td>62.296341</td>\n",
       "      <td>0.759153</td>\n",
       "      <td>210.012</td>\n",
       "      <td>0.868434</td>\n",
       "      <td>1.465950</td>\n",
       "      <td>1</td>\n",
       "    </tr>\n",
       "    <tr>\n",
       "      <th>3</th>\n",
       "      <td>4</td>\n",
       "      <td>3073</td>\n",
       "      <td>77.033628</td>\n",
       "      <td>51.928487</td>\n",
       "      <td>0.738639</td>\n",
       "      <td>3157</td>\n",
       "      <td>62.551300</td>\n",
       "      <td>0.783529</td>\n",
       "      <td>210.657</td>\n",
       "      <td>0.870203</td>\n",
       "      <td>1.483456</td>\n",
       "      <td>1</td>\n",
       "    </tr>\n",
       "    <tr>\n",
       "      <th>4</th>\n",
       "      <td>5</td>\n",
       "      <td>3693</td>\n",
       "      <td>85.124785</td>\n",
       "      <td>56.374021</td>\n",
       "      <td>0.749282</td>\n",
       "      <td>3802</td>\n",
       "      <td>68.571668</td>\n",
       "      <td>0.769375</td>\n",
       "      <td>230.332</td>\n",
       "      <td>0.874743</td>\n",
       "      <td>1.510000</td>\n",
       "      <td>1</td>\n",
       "    </tr>\n",
       "  </tbody>\n",
       "</table>\n",
       "</div>"
      ],
      "text/plain": [
       "   id  Area  MajorAxisLength  MinorAxisLength  Eccentricity  ConvexArea  \\\n",
       "0   1  4537        92.229316        64.012769      0.719916        4677   \n",
       "1   2  2872        74.691881        51.400454      0.725553        3015   \n",
       "2   3  3048        76.293164        52.043491      0.731211        3132   \n",
       "3   4  3073        77.033628        51.928487      0.738639        3157   \n",
       "4   5  3693        85.124785        56.374021      0.749282        3802   \n",
       "\n",
       "   EquivDiameter    Extent  Perimeter  Roundness  AspectRation  Class  \n",
       "0      76.004525  0.657536    273.085   0.764510      1.440796      1  \n",
       "1      60.471018  0.713009    208.317   0.831658      1.453137      1  \n",
       "2      62.296341  0.759153    210.012   0.868434      1.465950      1  \n",
       "3      62.551300  0.783529    210.657   0.870203      1.483456      1  \n",
       "4      68.571668  0.769375    230.332   0.874743      1.510000      1  "
      ]
     },
     "execution_count": 8,
     "metadata": {},
     "output_type": "execute_result"
    }
   ],
   "source": [
    "data_df = df.copy()# required for inference\n",
    "original_df = df.copy()\n",
    "df.head()"
   ]
  },
  {
   "cell_type": "code",
   "execution_count": 9,
   "id": "b1d71d1b-9b16-471e-96e8-e45682904e7a",
   "metadata": {},
   "outputs": [
    {
     "data": {
      "text/plain": [
       "id                 0\n",
       "Area               0\n",
       "MajorAxisLength    0\n",
       "MinorAxisLength    0\n",
       "Eccentricity       0\n",
       "ConvexArea         0\n",
       "EquivDiameter      0\n",
       "Extent             0\n",
       "Perimeter          0\n",
       "Roundness          0\n",
       "AspectRation       0\n",
       "Class              0\n",
       "dtype: int64"
      ]
     },
     "execution_count": 9,
     "metadata": {},
     "output_type": "execute_result"
    }
   ],
   "source": [
    "data_df.isnull().sum()"
   ]
  },
  {
   "cell_type": "code",
   "execution_count": 10,
   "id": "3db79bac-307a-4a91-8dd2-7df0fabeaf3b",
   "metadata": {},
   "outputs": [
    {
     "data": {
      "text/plain": [
       "0"
      ]
     },
     "execution_count": 10,
     "metadata": {},
     "output_type": "execute_result"
    }
   ],
   "source": [
    "data_df.duplicated().sum()"
   ]
  },
  {
   "cell_type": "code",
   "execution_count": 11,
   "id": "11219885-d16f-4182-a825-bff128ebb4d3",
   "metadata": {},
   "outputs": [],
   "source": [
    "data_df.drop([\"id\"], axis =1, inplace = True) # Drop Id column"
   ]
  },
  {
   "cell_type": "code",
   "execution_count": 12,
   "id": "fadbe4eb-8531-468a-92ce-c39af20642d2",
   "metadata": {},
   "outputs": [
    {
     "name": "stdout",
     "output_type": "stream",
     "text": [
      "Output possibilities:  [1 0]\n",
      "Data Shape (rows, cols):  (18185, 11)\n"
     ]
    }
   ],
   "source": [
    "print(\"Output possibilities: \", data_df[\"Class\"].unique()) \n",
    "print(\"Data Shape (rows, cols): \", data_df.shape) "
   ]
  },
  {
   "cell_type": "code",
   "execution_count": 13,
   "id": "80a205df-b2a1-44c6-896c-810717ebeef6",
   "metadata": {},
   "outputs": [
    {
     "data": {
      "text/html": [
       "<div>\n",
       "<style scoped>\n",
       "    .dataframe tbody tr th:only-of-type {\n",
       "        vertical-align: middle;\n",
       "    }\n",
       "\n",
       "    .dataframe tbody tr th {\n",
       "        vertical-align: top;\n",
       "    }\n",
       "\n",
       "    .dataframe thead th {\n",
       "        text-align: right;\n",
       "    }\n",
       "</style>\n",
       "<table border=\"1\" class=\"dataframe\">\n",
       "  <thead>\n",
       "    <tr style=\"text-align: right;\">\n",
       "      <th></th>\n",
       "      <th>Area</th>\n",
       "      <th>MajorAxisLength</th>\n",
       "      <th>MinorAxisLength</th>\n",
       "      <th>Eccentricity</th>\n",
       "      <th>ConvexArea</th>\n",
       "      <th>EquivDiameter</th>\n",
       "      <th>Extent</th>\n",
       "      <th>Perimeter</th>\n",
       "      <th>Roundness</th>\n",
       "      <th>AspectRation</th>\n",
       "      <th>Class</th>\n",
       "    </tr>\n",
       "  </thead>\n",
       "  <tbody>\n",
       "    <tr>\n",
       "      <th>0</th>\n",
       "      <td>0.444368</td>\n",
       "      <td>0.503404</td>\n",
       "      <td>0.775435</td>\n",
       "      <td>0.744658</td>\n",
       "      <td>0.424873</td>\n",
       "      <td>0.666610</td>\n",
       "      <td>0.741661</td>\n",
       "      <td>0.537029</td>\n",
       "      <td>0.844997</td>\n",
       "      <td>0.368316</td>\n",
       "      <td>1.0</td>\n",
       "    </tr>\n",
       "    <tr>\n",
       "      <th>1</th>\n",
       "      <td>0.281293</td>\n",
       "      <td>0.407681</td>\n",
       "      <td>0.622653</td>\n",
       "      <td>0.750489</td>\n",
       "      <td>0.273892</td>\n",
       "      <td>0.530370</td>\n",
       "      <td>0.804230</td>\n",
       "      <td>0.409661</td>\n",
       "      <td>0.919215</td>\n",
       "      <td>0.371471</td>\n",
       "      <td>1.0</td>\n",
       "    </tr>\n",
       "    <tr>\n",
       "      <th>2</th>\n",
       "      <td>0.298531</td>\n",
       "      <td>0.416421</td>\n",
       "      <td>0.630442</td>\n",
       "      <td>0.756341</td>\n",
       "      <td>0.284520</td>\n",
       "      <td>0.546380</td>\n",
       "      <td>0.856278</td>\n",
       "      <td>0.412994</td>\n",
       "      <td>0.959862</td>\n",
       "      <td>0.374747</td>\n",
       "      <td>1.0</td>\n",
       "    </tr>\n",
       "    <tr>\n",
       "      <th>3</th>\n",
       "      <td>0.300979</td>\n",
       "      <td>0.420463</td>\n",
       "      <td>0.629049</td>\n",
       "      <td>0.764024</td>\n",
       "      <td>0.286791</td>\n",
       "      <td>0.548616</td>\n",
       "      <td>0.883772</td>\n",
       "      <td>0.414262</td>\n",
       "      <td>0.961818</td>\n",
       "      <td>0.379222</td>\n",
       "      <td>1.0</td>\n",
       "    </tr>\n",
       "    <tr>\n",
       "      <th>4</th>\n",
       "      <td>0.361704</td>\n",
       "      <td>0.464626</td>\n",
       "      <td>0.682901</td>\n",
       "      <td>0.775033</td>\n",
       "      <td>0.345385</td>\n",
       "      <td>0.601418</td>\n",
       "      <td>0.867808</td>\n",
       "      <td>0.452954</td>\n",
       "      <td>0.966836</td>\n",
       "      <td>0.386007</td>\n",
       "      <td>1.0</td>\n",
       "    </tr>\n",
       "  </tbody>\n",
       "</table>\n",
       "</div>"
      ],
      "text/plain": [
       "       Area  MajorAxisLength  MinorAxisLength  Eccentricity  ConvexArea  \\\n",
       "0  0.444368         0.503404         0.775435      0.744658    0.424873   \n",
       "1  0.281293         0.407681         0.622653      0.750489    0.273892   \n",
       "2  0.298531         0.416421         0.630442      0.756341    0.284520   \n",
       "3  0.300979         0.420463         0.629049      0.764024    0.286791   \n",
       "4  0.361704         0.464626         0.682901      0.775033    0.345385   \n",
       "\n",
       "   EquivDiameter    Extent  Perimeter  Roundness  AspectRation  Class  \n",
       "0       0.666610  0.741661   0.537029   0.844997      0.368316    1.0  \n",
       "1       0.530370  0.804230   0.409661   0.919215      0.371471    1.0  \n",
       "2       0.546380  0.856278   0.412994   0.959862      0.374747    1.0  \n",
       "3       0.548616  0.883772   0.414262   0.961818      0.379222    1.0  \n",
       "4       0.601418  0.867808   0.452954   0.966836      0.386007    1.0  "
      ]
     },
     "execution_count": 13,
     "metadata": {},
     "output_type": "execute_result"
    }
   ],
   "source": [
    "for column in data_df.columns:\n",
    "    data_df[column] = data_df[column]/data_df[column].abs().max()# normalize\n",
    "data_df.head()"
   ]
  },
  {
   "cell_type": "markdown",
   "id": "5f151377-78d7-4c00-aa3b-2e31d7ee1916",
   "metadata": {},
   "source": [
    "Normalize since the weights of nn are relatively small compared to these values\n",
    "\n",
    "When weights are multiplied by inputs throughout the different layers they will become extremely high resulting in slower, computationally expensive and it may some time round up the values for calculating loss function so we normalize the value"
   ]
  },
  {
   "cell_type": "code",
   "execution_count": 15,
   "id": "6eb7657a-326a-4c8b-9a30-f40a46cc5eb8",
   "metadata": {},
   "outputs": [
    {
     "data": {
      "text/plain": [
       "1.0    9985\n",
       "0.0    8200\n",
       "Name: Class, dtype: int64"
      ]
     },
     "execution_count": 15,
     "metadata": {},
     "output_type": "execute_result"
    }
   ],
   "source": [
    "data_df['Class'].value_counts()"
   ]
  },
  {
   "cell_type": "code",
   "execution_count": 16,
   "id": "495f0623-94af-4708-9727-8f18ea6bd97e",
   "metadata": {},
   "outputs": [
    {
     "name": "stdout",
     "output_type": "stream",
     "text": [
      "Training set is:  12729  rows which is  70.0 %\n",
      "Validation set is:  2728  rows which is  15.0 %\n",
      "Testing set is:  2728  rows which is  15.0 %\n"
     ]
    }
   ],
   "source": [
    "X = np.array(data_df.iloc[:,:-1])\n",
    "Y = np.array(data_df.iloc[:, -1])\n",
    "\n",
    "X_train, X_test, y_train, y_test = train_test_split(X, Y, test_size = 0.3,random_state = 42) \n",
    "X_test, X_val, y_test, y_val = train_test_split(X_test, y_test, test_size = 0.5) # Create the validation split\n",
    "\n",
    "print(\"Training set is: \", X_train.shape[0], \" rows which is \", round(X_train.shape[0]/data_df.shape[0],4)*100, \"%\") \n",
    "print(\"Validation set is: \",X_val.shape[0], \" rows which is \", round(X_val.shape[0]/data_df.shape[0],4)*100, \"%\") \n",
    "print(\"Testing set is: \",X_test.shape[0], \" rows which is \", round(X_test.shape[0]/data_df.shape[0],4)*100, \"%\") \n",
    "     "
   ]
  },
  {
   "cell_type": "markdown",
   "id": "cebffdcc-d772-4555-956c-15d52f9caa47",
   "metadata": {},
   "source": [
    "We rebuilt the constructor function which is __init__. We put X and Y as a parameters to this function which are the inputs and outputs respectively, then inside the function we define the inputs and converting it to tensors, then converting the outputs to tensors and we make the numbers as a float32 Additionally, we moved all our data to cuda device. Then we modified the __len__ and the __getitem__ to match our needs which gets the specific length/shape of the data, and the data of specific row in our data respectively."
   ]
  },
  {
   "cell_type": "code",
   "execution_count": 32,
   "id": "8707d9ba-f069-41b0-ba9e-1c20602bb203",
   "metadata": {},
   "outputs": [],
   "source": [
    "class dataset(Dataset):\n",
    "    def __init__(self,X,Y):\n",
    "        self.X = torch.tensor(X, dtype = torch.float32).to(device) # tensor input\n",
    "        self.Y = torch.tensor(Y, dtype = torch.float32).to(device)\n",
    "    \n",
    "    def __len__(self):\n",
    "        return len(self.X) # shape of input\n",
    "    \n",
    "    def __getitem__(self, index):# get data with index position\n",
    "        return self.X[index],self.Y[index]\n"
   ]
  },
  {
   "cell_type": "code",
   "execution_count": 34,
   "id": "c6fffbb5-5b21-4848-b749-f2e2986ebc2c",
   "metadata": {},
   "outputs": [],
   "source": [
    "training_data = dataset(X_train, y_train)\n",
    "validation_data = dataset(X_val, y_val)\n",
    "testing_data = dataset(X_test, y_test)"
   ]
  },
  {
   "cell_type": "code",
   "execution_count": 36,
   "id": "03f99265-538c-485c-8659-9fcbc669f731",
   "metadata": {},
   "outputs": [],
   "source": [
    "BATCH_SIZE = 32\n",
    "EPOCHS = 10\n",
    "HIDDEN_NEURONS = 10 # number of columns\n",
    "LR = 1e-3"
   ]
  },
  {
   "cell_type": "code",
   "execution_count": 38,
   "id": "4e077c67-6d5a-4277-a28c-e94e873412cd",
   "metadata": {},
   "outputs": [],
   "source": [
    "train_dataloader = DataLoader(training_data, batch_size=BATCH_SIZE, shuffle= True)\n",
    "validation_dataloader = DataLoader(validation_data, batch_size=BATCH_SIZE, shuffle= True)\n",
    "testing_dataloader = DataLoader(testing_data, batch_size=BATCH_SIZE, shuffle= True)"
   ]
  },
  {
   "cell_type": "markdown",
   "id": "bd845aae-a4b6-4843-a47b-519b98ebf1cb",
   "metadata": {},
   "source": [
    "Dataloader allows you to loop through the batches easily during the training. When you create a dataloader. You define the batch size and enable the shuffle to randomize the data and then you can loop through it in each epoch to train normally."
   ]
  },
  {
   "cell_type": "code",
   "execution_count": 41,
   "id": "b0a6bde9-5fe2-467a-8bf9-7ca1cb5f3343",
   "metadata": {},
   "outputs": [
    {
     "name": "stdout",
     "output_type": "stream",
     "text": [
      "torch.Size([32, 10])\n",
      "torch.Size([32])\n"
     ]
    }
   ],
   "source": [
    "for x, y in train_dataloader:\n",
    "    print(x.shape)\n",
    "    print(y.shape)\n",
    "    break"
   ]
  },
  {
   "cell_type": "code",
   "execution_count": 58,
   "id": "42e9720f-2ea2-48d8-97c1-78cb9485a889",
   "metadata": {},
   "outputs": [],
   "source": [
    "class Model(nn.Module):\n",
    "    def __init__(self):\n",
    "        super(Model,self).__init__()\n",
    "        self.input_layer = nn.Linear(X.shape[1], HIDDEN_NEURONS)#in_features,out_features,bias(T/F),dtype\n",
    "        self.linear_1 = nn.Linear(HIDDEN_NEURONS,10)\n",
    "        self.linear_2 = nn.Linear(10,1)\n",
    "        self.sigmoid = nn.Sigmoid()\n",
    "    \n",
    "    def forward(self,x):\n",
    "        x = self.input_layer(x)\n",
    "        x = self.linear_1(x)\n",
    "        x = self.linear_2(x)\n",
    "        x = self.sigmoid(x)\n",
    "        return x\n"
   ]
  },
  {
   "cell_type": "code",
   "execution_count": 60,
   "id": "b8b0b505-73b9-4c1c-b04f-5e2bfad8c208",
   "metadata": {},
   "outputs": [],
   "source": [
    "class Model(nn.Module):\n",
    "    def __init__(self):\n",
    "        super(Model,self).__init__()\n",
    "        self.input_layer = nn.Linear(X.shape[1], HIDDEN_NEURONS)#in_features,out_features,bias(T/F),dtype\n",
    "        # self.linear_1 = nn.Linear(HIDDEN_NEURONS,10)\n",
    "        self.linear_2 = nn.Linear(10,1)\n",
    "        self.sigmoid = nn.Sigmoid()\n",
    "    \n",
    "    def forward(self,x):\n",
    "        x = self.input_layer(x)\n",
    "        # x = self.linear_1(x)\n",
    "        x = self.linear_2(x)\n",
    "        x = self.sigmoid(x)\n",
    "        return x"
   ]
  },
  {
   "cell_type": "code",
   "execution_count": 62,
   "id": "ce76e367-f733-4a48-a7e4-af5783292b15",
   "metadata": {},
   "outputs": [
    {
     "name": "stdout",
     "output_type": "stream",
     "text": [
      "----------------------------------------------------------------\n",
      "        Layer (type)               Output Shape         Param #\n",
      "================================================================\n",
      "            Linear-1                   [-1, 10]             110\n",
      "            Linear-2                    [-1, 1]              11\n",
      "           Sigmoid-3                    [-1, 1]               0\n",
      "================================================================\n",
      "Total params: 121\n",
      "Trainable params: 121\n",
      "Non-trainable params: 0\n",
      "----------------------------------------------------------------\n",
      "Input size (MB): 0.00\n",
      "Forward/backward pass size (MB): 0.00\n",
      "Params size (MB): 0.00\n",
      "Estimated Total Size (MB): 0.00\n",
      "----------------------------------------------------------------\n"
     ]
    }
   ],
   "source": [
    "model = Model().to(device)\n",
    "summary(model,(X.shape[1],))\n"
   ]
  },
  {
   "cell_type": "markdown",
   "id": "02ec2e4b-0459-4d64-9c85-bda912360890",
   "metadata": {},
   "source": [
    "Linear-1                   [-1, 10]             110\n",
    "\n",
    "in [-1, 10] -1 to show batch size of data loader "
   ]
  },
  {
   "cell_type": "code",
   "execution_count": 65,
   "id": "fad45274-574d-4877-9156-870200f6742f",
   "metadata": {},
   "outputs": [],
   "source": [
    "# !pip install torchinfo\n",
    "# import torchinfo\n",
    "# torchinfo.summary(model, input_size=(BATCH_SIZE, X.shape[1]),device = device)"
   ]
  },
  {
   "cell_type": "code",
   "execution_count": 67,
   "id": "0ad2c367-98ce-462b-89df-c905130b1ed6",
   "metadata": {},
   "outputs": [],
   "source": [
    "criterion = nn.BCELoss() # cost function\n",
    "optimizer = Adam(model.parameters(),lr = LR) # parameters gives weights of the model"
   ]
  },
  {
   "cell_type": "code",
   "execution_count": 68,
   "id": "343d639e-f021-4e8d-a3ed-8afc9b339962",
   "metadata": {},
   "outputs": [
    {
     "name": "stdout",
     "output_type": "stream",
     "text": [
      "Epoch no. 1 Train Loss: 0.2503 Train Accuracy: 74.4128 Validation Loss: 0.0429 Validation Accuracy: 96.6276\n",
      "==================================================\n",
      "Epoch no. 2 Train Loss: 0.1375 Train Accuracy: 97.6353 Validation Loss: 0.0191 Validation Accuracy: 97.5073\n",
      "==================================================\n",
      "Epoch no. 3 Train Loss: 0.0653 Train Accuracy: 98.2088 Validation Loss: 0.0104 Validation Accuracy: 98.2405\n",
      "==================================================\n",
      "Epoch no. 4 Train Loss: 0.0404 Train Accuracy: 98.3659 Validation Loss: 0.0072 Validation Accuracy: 98.3138\n",
      "==================================================\n",
      "Epoch no. 5 Train Loss: 0.0304 Train Accuracy: 98.4995 Validation Loss: 0.0058 Validation Accuracy: 98.3138\n",
      "==================================================\n",
      "Epoch no. 6 Train Loss: 0.0254 Train Accuracy: 98.5309 Validation Loss: 0.0050 Validation Accuracy: 98.3504\n",
      "==================================================\n",
      "Epoch no. 7 Train Loss: 0.0226 Train Accuracy: 98.5545 Validation Loss: 0.0046 Validation Accuracy: 98.3504\n",
      "==================================================\n",
      "Epoch no. 8 Train Loss: 0.0207 Train Accuracy: 98.5938 Validation Loss: 0.0045 Validation Accuracy: 98.2771\n",
      "==================================================\n",
      "Epoch no. 9 Train Loss: 0.0197 Train Accuracy: 98.5702 Validation Loss: 0.0040 Validation Accuracy: 98.4238\n",
      "==================================================\n",
      "Epoch no. 10 Train Loss: 0.0188 Train Accuracy: 98.5388 Validation Loss: 0.0039 Validation Accuracy: 98.4971\n",
      "==================================================\n"
     ]
    }
   ],
   "source": [
    "total_loss_train_plot = []\n",
    "total_loss_validation_plot = []\n",
    "total_acc_train_plot = []\n",
    "total_acc_validation_plot = []\n",
    "for epoch in range(EPOCHS):\n",
    "    total_acc_train = 0\n",
    "    total_loss_train = 0\n",
    "    total_acc_val = 0\n",
    "    total_loss_val = 0\n",
    "\n",
    "    for data in train_dataloader:\n",
    "        # print(type(data),len(data))\n",
    "        inputs,labels = data\n",
    "        # print(inputs.shape,labels.shape)\n",
    "        \n",
    "        # forward propogation\n",
    "        prediction = model(inputs).squeeze()\n",
    "        # print(prediction.shape)\n",
    "        batch_loss = criterion(prediction, labels)\n",
    "        # print(batch_loss)\n",
    "        total_loss_train += batch_loss.item()\n",
    "        # print(total_loss_train)\n",
    "        acc = (prediction.round() == labels).sum().item()\n",
    "        # print(prediction.round() == labels)\n",
    "        # print(acc)\n",
    "        \n",
    "        total_acc_train += acc\n",
    "        # print(total_acc_train)\n",
    "        \n",
    "        # backward propogation\n",
    "        batch_loss.backward()\n",
    "        optimizer.step()\n",
    "        optimizer.zero_grad()\n",
    "      \n",
    "    # validation for the batch\n",
    "    with torch.no_grad():\n",
    "        for data in validation_dataloader:\n",
    "            inputs, labels = data\n",
    "            prediction = model(inputs).squeeze(1)\n",
    "            # print(prediction.shape)\n",
    "            batch_loss = criterion(prediction,labels)\n",
    "            \n",
    "            total_loss_val += batch_loss.item()\n",
    "            acc = (prediction.round() == labels).sum().item()\n",
    "            total_acc_val += acc\n",
    "            # print(acc)\n",
    "    total_loss_train_plot.append(round(total_loss_train/1000, 4))# normalize loss value\n",
    "    total_loss_validation_plot.append(round(total_loss_val/1000, 4))\n",
    "    total_acc_train_plot.append(round(total_acc_train/(training_data.__len__())*100, 4))\n",
    "    total_acc_validation_plot.append(round(total_acc_val/(validation_data.__len__())*100, 4))\n",
    "    \n",
    "    print(f'''Epoch no. {epoch + 1} Train Loss: {total_loss_train/1000:.4f} Train Accuracy: {(total_acc_train/(training_data.__len__())*100):.4f} Validation Loss: {total_loss_val/1000:.4f} Validation Accuracy: {(total_acc_val/(validation_data.__len__())*100):.4f}''')\n",
    "    print(\"=\"*50)\n",
    "        \n",
    "    "
   ]
  },
  {
   "cell_type": "code",
   "execution_count": 69,
   "id": "90281471-8686-4c56-866a-0eb4d73101fe",
   "metadata": {},
   "outputs": [
    {
     "name": "stdout",
     "output_type": "stream",
     "text": [
      "Accuracy Score is: 99.16%\n"
     ]
    }
   ],
   "source": [
    "with torch.no_grad():\n",
    "    total_loss_test = 0\n",
    "    total_acc_test = 0\n",
    "    for data in testing_dataloader:\n",
    "        inputs, labels = data\n",
    "        prediction = model(inputs).squeeze(1)\n",
    "\n",
    "        batch_loss_test = criterion(prediction,labels).item()\n",
    "        total_loss_test += batch_loss_test\n",
    "        \n",
    "        acc = (prediction.round() == labels).sum().item()\n",
    "        total_acc_test += acc\n",
    "print(f\"Accuracy Score is: {round((total_acc_test/X_test.shape[0])*100, 2)}%\")\n",
    "        "
   ]
  },
  {
   "cell_type": "code",
   "execution_count": 70,
   "id": "23b1bf16-c36b-46df-a1cc-ab42cec371f4",
   "metadata": {},
   "outputs": [
    {
     "name": "stdout",
     "output_type": "stream",
     "text": [
      "Figure(1500x500) Axes(0.125,0.11;0.352273x0.77)\n"
     ]
    },
    {
     "data": {
      "image/png": "[encoded data removed]",
      "text/plain": [
       "<Figure size 1500x500 with 2 Axes>"
      ]
     },
     "metadata": {},
     "output_type": "display_data"
    }
   ],
   "source": [
    "fig, axs = plt.subplots(nrows=1, ncols=2, figsize=(15, 5))\n",
    "print(fig,axs[0])\n",
    "axs[0].plot(total_loss_train_plot, label='Training Loss')\n",
    "axs[0].plot(total_loss_validation_plot, label='Validation Loss')\n",
    "axs[0].set_title('Training and Validation Loss over Epochs')\n",
    "axs[0].set_xlabel('Epochs')\n",
    "axs[0].set_ylabel('Loss')\n",
    "axs[0].set_ylim([0, 2])\n",
    "axs[0].legend()\n",
    "\n",
    "axs[1].plot(total_acc_train_plot, label='Training Accuracy')\n",
    "axs[1].plot(total_acc_validation_plot, label='Validation Accuracy')\n",
    "axs[1].set_title('Training and Validation Accuracy over Epochs')\n",
    "axs[1].set_xlabel('Epochs')\n",
    "axs[1].set_ylabel('Accuracy')\n",
    "axs[1].set_ylim([0, 100])\n",
    "axs[1].legend()\n",
    "\n",
    "plt.tight_layout()\n",
    "\n",
    "plt.show()\n"
   ]
  },
  {
   "cell_type": "code",
   "execution_count": 86,
   "id": "ca35ecfd-8bab-4fbd-94a5-717d2d7afb30",
   "metadata": {},
   "outputs": [
    {
     "name": "stdin",
     "output_type": "stream",
     "text": [
      "Area:  4537.\n",
      "Major Axis Length:  92.\n",
      "Minor Axis Length:  64.\n",
      "Eccentricity:  0.7\n",
      "Convex Area:  4677.0\n",
      "EquivDiameter:  76.0\n",
      "Extent:  0.657\n",
      "Perimeter:  273.0\n",
      "Roundness:  0\n",
      "AspectRation:  1\n"
     ]
    },
    {
     "name": "stdout",
     "output_type": "stream",
     "text": [
      "====================\n",
      "tensor([0.0918], grad_fn=<SigmoidBackward0>)\n",
      "Class is:  0\n"
     ]
    }
   ],
   "source": [
    "\n",
    "\n",
    "area = float(input(\"Area: \"))/original_df['Area'].abs().max()\n",
    "MajorAxisLength = float(input(\"Major Axis Length: \"))/original_df['MajorAxisLength'].abs().max()\n",
    "MinorAxisLength = float(input(\"Minor Axis Length: \"))/original_df['MinorAxisLength'].abs().max()\n",
    "Eccentricity = float(input(\"Eccentricity: \"))/original_df['Eccentricity'].abs().max()\n",
    "ConvexArea = float(input(\"Convex Area: \"))/original_df['ConvexArea'].abs().max()\n",
    "EquivDiameter = float(input(\"EquivDiameter: \"))/original_df['EquivDiameter'].abs().max()\n",
    "Extent = float(input(\"Extent: \"))/original_df['Extent'].abs().max()\n",
    "Perimeter = float(input(\"Perimeter: \"))/original_df['Perimeter'].abs().max()\n",
    "Roundness = float(input(\"Roundness: \"))/original_df['Roundness'].abs().max()\n",
    "AspectRation = float(input(\"AspectRation: \"))/original_df['AspectRation'].abs().max()\n",
    "\n",
    "my_inputs = [area, MajorAxisLength, MinorAxisLength, Eccentricity, ConvexArea, EquivDiameter, Extent, Perimeter, Roundness, AspectRation]\n",
    "\n",
    "print(\"=\"*20)\n",
    "model_inputs = torch.Tensor(my_inputs).to(device)\n",
    "prediction = (model(model_inputs))\n",
    "print(prediction)\n",
    "print(\"Class is: \", round(prediction.item()))"
   ]
  },
  {
   "cell_type": "code",
   "execution_count": 84,
   "id": "001e0130-c65e-4cd8-9c29-c7bbf9304653",
   "metadata": {},
   "outputs": [
    {
     "data": {
      "text/plain": [
       "Area               4537.000000\n",
       "MajorAxisLength      92.229316\n",
       "MinorAxisLength      64.012769\n",
       "Eccentricity          0.719916\n",
       "ConvexArea         4677.000000\n",
       "EquivDiameter        76.004525\n",
       "Extent                0.657536\n",
       "Perimeter           273.085000\n",
       "Roundness             0.764510\n",
       "AspectRation          1.440796\n",
       "Class                 1.000000\n",
       "Name: 0, dtype: float64"
      ]
     },
     "execution_count": 84,
     "metadata": {},
     "output_type": "execute_result"
    }
   ],
   "source": [
    "df.iloc[0,1:]"
   ]
  }
 ],
 "metadata": {
  "kernelspec": {
   "display_name": "Python 3 (ipykernel)",
   "language": "python",
   "name": "python3"
  },
  "language_info": {
   "codemirror_mode": {
    "name": "ipython",
    "version": 3
   },
   "file_extension": ".py",
   "mimetype": "text/x-python",
   "name": "python",
   "nbconvert_exporter": "python",
   "pygments_lexer": "ipython3",
   "version": "3.11.7"
  }
 },
 "nbformat": 4,
 "nbformat_minor": 5
}
